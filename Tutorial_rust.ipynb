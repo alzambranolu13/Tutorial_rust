{
 "cells": [
  {
   "cell_type": "markdown",
   "id": "13089ab5",
   "metadata": {},
   "source": [
    "# Tutorial Rust\n",
    "\n",
    "A continuación veremos todos los aspectos basicos y avanzados de Rust."
   ]
  },
  {
   "cell_type": "markdown",
   "id": "e2135d74",
   "metadata": {},
   "source": [
    "## Hello World \n",
    "Primero que todo el famoso \"Hello World!\". En un jupyter notebook no es necesario tener una funcion main sin embargo en un proyecto normal de Rust es necesario tenerla"
   ]
  },
  {
   "cell_type": "code",
   "execution_count": 10,
   "id": "10539281",
   "metadata": {},
   "outputs": [
    {
     "name": "stdout",
     "output_type": "stream",
     "text": [
      "Hello World!\n"
     ]
    }
   ],
   "source": [
    "fn main() {\n",
    "    println!(\"Hello World!\");\n",
    "}\n",
    "main();"
   ]
  },
  {
   "cell_type": "markdown",
   "id": "897a333c",
   "metadata": {},
   "source": [
    "## Conceptos basicos de programacion"
   ]
  },
  {
   "cell_type": "markdown",
   "id": "a7a716c3",
   "metadata": {},
   "source": [
    "### Formateo"
   ]
  },
  {
   "cell_type": "markdown",
   "id": "8854be21",
   "metadata": {},
   "source": [
    "El formateo puede ser por medio del orden de las variables en corchetes"
   ]
  },
  {
   "cell_type": "code",
   "execution_count": 11,
   "id": "3ed72ccd",
   "metadata": {},
   "outputs": [
    {
     "name": "stdout",
     "output_type": "stream",
     "text": [
      "Alice, this is Bob. Bob, this is Alice\n"
     ]
    }
   ],
   "source": [
    "println!(\"{0}, this is {1}. {1}, this is {0}\", \"Alice\", \"Bob\");"
   ]
  },
  {
   "cell_type": "markdown",
   "id": "0e8247ac",
   "metadata": {},
   "source": [
    "O puede ser llamandolo por el nombre de la variable en los corchetes"
   ]
  },
  {
   "cell_type": "code",
   "execution_count": 12,
   "id": "10c51770",
   "metadata": {},
   "outputs": [
    {
     "name": "stdout",
     "output_type": "stream",
     "text": [
      "the quick brown fox jumps over the lazy dog\n"
     ]
    }
   ],
   "source": [
    "println!(\"{subject} {verb} {object}\",\n",
    "    object=\"the lazy dog\",\n",
    "    subject=\"the quick brown fox\",\n",
    "    verb=\"jumps over\");"
   ]
  },
  {
   "cell_type": "markdown",
   "id": "653d416b",
   "metadata": {},
   "source": [
    "### Tipos y declaración de variables"
   ]
  },
  {
   "cell_type": "markdown",
   "id": "21715671",
   "metadata": {},
   "source": [
    "#### Primitivos"
   ]
  },
  {
   "cell_type": "markdown",
   "id": "849bc754",
   "metadata": {},
   "source": [
    "En rust tenemos dos grupos grandes de primiticos los escalares y los compuestos.\n",
    "\n",
    "###### Escalares:\n",
    "- signed integers: son enteros con signo y con un tamaño especifico de puntero(i8, i16, ...)\n",
    "- unsigned integers: son enteros sin signo y con un tamaño especifico de puntero(u8, u16, ...)\n",
    "- floating point: son numeros reales con tamaño especifico (f32, f64)\n",
    "- char: son caracteres de unicode de 4 bytes ('a', 'α', '∞')\n",
    "- bool: son o \"true\" o \"false\"\n",
    "\n",
    "###### Compuestos:\n",
    "- arrays: son colecciones que almacenan un solo tipo de dato. Es necesario especificar su tamaño y su tipo explicitamente. ([1,2,3])\n",
    "- tuples: son colecciones de valores de diferentes tipos.( (1,true) )"
   ]
  },
  {
   "cell_type": "code",
   "execution_count": 15,
   "id": "518fcc24",
   "metadata": {},
   "outputs": [],
   "source": [
    "    let logical: bool = true;\n",
    "\n",
    "    let a_float: f64 = 1.0;  // Anotacion regular especificando nombre: Tipo\n",
    "    let an_integer   = 5i32; // Anotacion sufija especificando el tipo de dato en el valor\n",
    "\n",
    "    //O sino se especifica el tipo se pondra el default\n",
    "    let default_float   = 3.0; // `f64`\n",
    "    let default_integer = 7;   // `i32`\n",
    "    let a_bool = true;\n",
    "    let a_char= 'a';\n",
    "\n",
    "    // Tuplas de diferentes tipos de datos\n",
    "    let tuple_of_tuples = (1u8, \"Hola\", true);\n",
    "\n",
    "    // Arreglo de tamaño 5 y de tipo entero 32\n",
    "    let xs: [i32; 5] = [1, 2, 3, 4, 5];"
   ]
  },
  {
   "cell_type": "markdown",
   "id": "12d76f23",
   "metadata": {},
   "source": [
    "#### Tipos personalizados"
   ]
  },
  {
   "cell_type": "markdown",
   "id": "9f3240ad",
   "metadata": {},
   "source": [
    "Struct: son estructuras, similares a las que tiene el lenguaje C. Hay tres tipos de estructuras:\n",
    "- Basicas (iguales a las de C)\n",
    "- Estructuras de tuplas \n",
    "- Unit structs (no tienen campos)\n"
   ]
  },
  {
   "cell_type": "code",
   "execution_count": 18,
   "id": "1b77bf7f",
   "metadata": {},
   "outputs": [],
   "source": [
    "// Estructura basica\n",
    "struct Person {\n",
    "    name: String,\n",
    "    age: u8,\n",
    "}\n",
    "\n",
    "// Estructura de tupla\n",
    "struct Pair(i32, bool);\n",
    "\n",
    "// Unit struct\n",
    "struct Unit;\n",
    "\n",
    "// A instanciar!\n",
    "let Person: Person = Person { name: \"Alejandra\".to_string() , age: 20u8 };\n",
    "let Par:Pair = Pair(1, false);\n"
   ]
  },
  {
   "cell_type": "markdown",
   "id": "53bcb31c",
   "metadata": {},
   "source": [
    "Enum: permite la creacion de un tipo que puede ser uno de muchas variantes"
   ]
  },
  {
   "cell_type": "code",
   "execution_count": 21,
   "id": "7f97f0e0",
   "metadata": {},
   "outputs": [],
   "source": [
    "enum WebEvent {\n",
    "    // An `enum` may either be `unit-like`,\n",
    "    PageLoad,\n",
    "    PageUnload,\n",
    "    // like tuple structs,\n",
    "    KeyPress(char),\n",
    "    Paste(String),\n",
    "    // or c-like structures.\n",
    "    Click { x: i64, y: i64 },\n",
    "}\n",
    "\n",
    "let pressed = WebEvent::KeyPress('x');\n",
    "let pasted  = WebEvent::Paste(\"my text\".to_owned());\n",
    "let click   = WebEvent::Click { x: 20, y: 80 };\n",
    "let load    = WebEvent::PageLoad;\n",
    "let unload  = WebEvent::PageUnload;\n"
   ]
  },
  {
   "cell_type": "markdown",
   "id": "c2a8909f",
   "metadata": {},
   "source": [
    "Constantes: rust tiene dos tipos de constantes\n",
    "\n",
    "- const: un valor no mutable\n",
    "- static: valor mutable con ciclo de vida estaticvo. Acceder a estos datos es inseguro "
   ]
  },
  {
   "cell_type": "code",
   "execution_count": 26,
   "id": "f82d0409",
   "metadata": {},
   "outputs": [
    {
     "name": "stdout",
     "output_type": "stream",
     "text": [
      "This is Rust\n",
      "The threshold is 10\n"
     ]
    }
   ],
   "source": [
    "static LANGUAGE: &str = \"Rust\";\n",
    "const THRESHOLD: i32 = 10;\n",
    "\n",
    "fn main() {\n",
    "    println!(\"This is {}\", LANGUAGE);\n",
    "    println!(\"The threshold is {}\", THRESHOLD);\n",
    "}\n",
    "main();\n"
   ]
  },
  {
   "cell_type": "markdown",
   "id": "0f92e143",
   "metadata": {},
   "source": [
    "#### Mutabilidad"
   ]
  },
  {
   "cell_type": "markdown",
   "id": "757f021f",
   "metadata": {},
   "source": [
    "Por defecto TODAS las variables son inmutables, para modificarlas es necesario utilizar la palabra reservada `mut`"
   ]
  },
  {
   "cell_type": "code",
   "execution_count": 29,
   "id": "9e87d4b6",
   "metadata": {},
   "outputs": [
    {
     "ename": "Error",
     "evalue": "cannot assign twice to immutable variable `_immutable_binding`",
     "output_type": "error",
     "traceback": [
      "    let _immutable_binding = 1;",
      "\u001b[91m        ^^^^^^^^^^^^^^^^^^\u001b[0m \u001b[94mfirst assignment to `_immutable_binding`\u001b[0m",
      "    _immutable_binding += 1;",
      "\u001b[91m    ^^^^^^^^^^^^^^^^^^^^^^^\u001b[0m \u001b[94mcannot assign twice to immutable variable\u001b[0m",
      "cannot assign twice to immutable variable `_immutable_binding`",
      "\u001b[1mhelp\u001b[0m: make this binding mutable\n\nmut _immutable_binding"
     ]
    }
   ],
   "source": [
    "fn main() {\n",
    "    let _immutable_binding = 1;\n",
    "    let mut mutable_binding = 1;\n",
    "\n",
    "    println!(\"Before mutation: {}\", mutable_binding);\n",
    "\n",
    "    // Ok\n",
    "    mutable_binding += 1;\n",
    "\n",
    "    println!(\"After mutation: {}\", mutable_binding);\n",
    "\n",
    "    // ERROR! Al intentar de modificar la variable\n",
    "    _immutable_binding += 1;\n",
    "\n",
    "}\n"
   ]
  },
  {
   "cell_type": "markdown",
   "id": "cbb5a36c",
   "metadata": {},
   "source": [
    "#### Scope y shadowing"
   ]
  },
  {
   "cell_type": "markdown",
   "id": "215244d7",
   "metadata": {},
   "source": [
    "Todas las variables tienen un \"scope\" o alcance, la vida de la variable esta delimitada por un bloque referenciado por dos corchetes `{}`"
   ]
  },
  {
   "cell_type": "code",
   "execution_count": 33,
   "id": "c1d3a17a",
   "metadata": {},
   "outputs": [
    {
     "name": "stdout",
     "output_type": "stream",
     "text": [
      "antes de shadowing: 1\n",
      "shadowed en bloque interior abc\n",
      "afuera del bloque interior: 1\n",
      "shadowed en bloque exterior 2\n"
     ]
    }
   ],
   "source": [
    "fn main() {\n",
    "    let shadowed_binding = 1;\n",
    "\n",
    "    {\n",
    "        println!(\"antes de shadowing: {}\", shadowed_binding);\n",
    "\n",
    "        // Esta asignacion le hace \"shadowing\" a la anterior \n",
    "        let shadowed_binding = \"abc\";\n",
    "\n",
    "        println!(\"shadowed en bloque interior {}\", shadowed_binding);\n",
    "    }\n",
    "    println!(\"afuera del bloque interior: {}\", shadowed_binding);\n",
    "\n",
    "    let shadowed_binding = 2;\n",
    "    println!(\"shadowed en bloque exterior {}\", shadowed_binding);\n",
    "}\n",
    "main();"
   ]
  },
  {
   "cell_type": "markdown",
   "id": "462d745d",
   "metadata": {},
   "source": [
    "#### Casting"
   ]
  },
  {
   "cell_type": "markdown",
   "id": "f906a826",
   "metadata": {},
   "source": [
    "En rust no existe el casting implicito entre tipos de datos, pero se puede forzar explicitamente usando la palabra reservada `as`"
   ]
  },
  {
   "cell_type": "code",
   "execution_count": 34,
   "id": "3d09af38",
   "metadata": {},
   "outputs": [],
   "source": [
    "    let decimal = 65.4321_f32;\n",
    "\n",
    "    // Conversion explicita\n",
    "    let integer = decimal as u8;\n",
    "    let character = integer as char;"
   ]
  },
  {
   "cell_type": "markdown",
   "id": "8c79733f",
   "metadata": {},
   "source": [
    "#### Conversiones"
   ]
  },
  {
   "cell_type": "markdown",
   "id": "7f427559",
   "metadata": {},
   "source": [
    "Tambien es posible, hacer casting tus propios tipos de dato y estructuras por medio de las conversiones.\n"
   ]
  },
  {
   "cell_type": "markdown",
   "id": "72070622",
   "metadata": {},
   "source": [
    "###### From, Into"
   ]
  },
  {
   "cell_type": "markdown",
   "id": "b54ba901",
   "metadata": {},
   "source": [
    "From: este trait permite definir como un tipo de dato personalizado puede crearse a si mismo desde otro tipo de dato"
   ]
  },
  {
   "cell_type": "code",
   "execution_count": 35,
   "id": "d47d6f0c",
   "metadata": {},
   "outputs": [],
   "source": [
    "let my_str = \"hello\";\n",
    "let my_string = String::from(my_str);"
   ]
  },
  {
   "cell_type": "markdown",
   "id": "cd2ab4c8",
   "metadata": {},
   "source": [
    "Into: este trait es reciproco a `From`. Permite definir como crear otro tipo de dato a partir de un tipo de dato personalizado"
   ]
  },
  {
   "cell_type": "code",
   "execution_count": 39,
   "id": "3b0cbb82",
   "metadata": {},
   "outputs": [
    {
     "name": "stdout",
     "output_type": "stream",
     "text": [
      "My number is Number { value: 5 }\n"
     ]
    }
   ],
   "source": [
    "use std::convert::From;\n",
    "\n",
    "#[derive(Debug)]\n",
    "struct Number {\n",
    "    value: i32,\n",
    "}\n",
    "\n",
    "impl From<i32> for Number {\n",
    "    fn from(item: i32) -> Self {\n",
    "        Number { value: item }\n",
    "    }\n",
    "}\n",
    "\n",
    "fn main() {\n",
    "    let int = 5;\n",
    "    // Try removing the type declaration\n",
    "    let num: Number = int.into();\n",
    "    println!(\"My number is {:?}\", num);\n",
    "}\n",
    "main();"
   ]
  },
  {
   "cell_type": "markdown",
   "id": "c234cb10",
   "metadata": {},
   "source": [
    "#### Expresiones"
   ]
  },
  {
   "cell_type": "markdown",
   "id": "027e1527",
   "metadata": {},
   "source": [
    "Ya hemos visto muchos ejemplos de expresiones en rust pero queremos añadir datos adicionales especiales de este lenguaje. Por ejemplo, los bloques de codigo cuentan como expresiones por lo tanto pueden ser asignados a una variable."
   ]
  },
  {
   "cell_type": "code",
   "execution_count": 56,
   "id": "efda7f74",
   "metadata": {},
   "outputs": [
    {
     "name": "stdout",
     "output_type": "stream",
     "text": [
      "z is 10\n"
     ]
    }
   ],
   "source": [
    "let x = 5u32;\n",
    "let z = {\n",
    "    2 * x\n",
    "};\n",
    "\n",
    "println!(\"z is {:?}\", z);"
   ]
  },
  {
   "cell_type": "markdown",
   "id": "44ada1a6",
   "metadata": {},
   "source": [
    "## Estructuras de control"
   ]
  },
  {
   "cell_type": "markdown",
   "id": "56d605a8",
   "metadata": {},
   "source": [
    "##### if/else"
   ]
  },
  {
   "cell_type": "markdown",
   "id": "4266b908",
   "metadata": {},
   "source": [
    "La unica diferencia con otros lenguajes es que la condicion no necesita estar entre parentesis"
   ]
  },
  {
   "cell_type": "code",
   "execution_count": 58,
   "id": "b841c631",
   "metadata": {},
   "outputs": [
    {
     "name": "stdout",
     "output_type": "stream",
     "text": [
      "5 is positive\n"
     ]
    }
   ],
   "source": [
    "let n = 5; \n",
    "if n < 0 {\n",
    "    println!(\"{} is negative\", n);\n",
    "} else if n > 0 {\n",
    "    println!(\"{} is positive\", n);\n",
    "} else {\n",
    "    println!(\"{} is zero\", n);\n",
    "};\n",
    "\n"
   ]
  },
  {
   "cell_type": "markdown",
   "id": "e1799eda",
   "metadata": {},
   "source": [
    "##### loop"
   ]
  },
  {
   "cell_type": "markdown",
   "id": "689bacdb",
   "metadata": {},
   "source": [
    "Ciclo infinito "
   ]
  },
  {
   "cell_type": "code",
   "execution_count": 63,
   "id": "564000ed",
   "metadata": {},
   "outputs": [
    {
     "name": "stdout",
     "output_type": "stream",
     "text": [
      "1\n",
      "2\n",
      "3\n",
      "4\n",
      "5\n",
      "Okey, suficiente\n"
     ]
    }
   ],
   "source": [
    "let mut count = 0u32;\n",
    "loop {\n",
    "    count += 1;\n",
    "\n",
    "    println!(\"{}\", count);\n",
    "\n",
    "    if count == 5 {\n",
    "        println!(\"Okey, suficiente\");\n",
    "\n",
    "        // Exit this loop\n",
    "        break;\n",
    "    }\n",
    "};"
   ]
  },
  {
   "cell_type": "markdown",
   "id": "a00d0549",
   "metadata": {},
   "source": [
    "##### while"
   ]
  },
  {
   "cell_type": "markdown",
   "id": "422bac71",
   "metadata": {},
   "source": [
    "Parecido a un loop pero con condicion"
   ]
  },
  {
   "cell_type": "code",
   "execution_count": 66,
   "id": "7e24d28d",
   "metadata": {},
   "outputs": [
    {
     "name": "stdout",
     "output_type": "stream",
     "text": [
      "1\n",
      "2\n",
      "fizz\n",
      "4\n",
      "buzz\n",
      "fizz\n",
      "7\n",
      "8\n",
      "fizz\n"
     ]
    }
   ],
   "source": [
    "let mut n = 1;\n",
    "while n < 10 {\n",
    "    if n % 15 == 0 {\n",
    "        println!(\"fizzbuzz\");\n",
    "    } else if n % 3 == 0 {\n",
    "        println!(\"fizz\");\n",
    "    } else if n % 5 == 0 {\n",
    "        println!(\"buzz\");\n",
    "    } else {\n",
    "        println!(\"{}\", n);\n",
    "    }\n",
    "\n",
    "    // Increment counter\n",
    "    n += 1;\n",
    "};"
   ]
  },
  {
   "cell_type": "markdown",
   "id": "46354400",
   "metadata": {},
   "source": [
    "##### for y rangos"
   ]
  },
  {
   "cell_type": "markdown",
   "id": "7f163d97",
   "metadata": {},
   "source": [
    "Un poco mas parecido a for en python"
   ]
  },
  {
   "cell_type": "code",
   "execution_count": 77,
   "id": "874b2b1d",
   "metadata": {},
   "outputs": [
    {
     "name": "stdout",
     "output_type": "stream",
     "text": [
      "0\n",
      "1\n",
      "2\n",
      "3\n",
      "4\n",
      "Hello Bob\n",
      "Hello Frank\n",
      "Hello Ferris\n"
     ]
    }
   ],
   "source": [
    "let t= 5;\n",
    "//for en Rust no inclusivo el t\n",
    "for i in 0..t{\n",
    "   println!(\"{}\",i) \n",
    "};\n",
    "\n",
    "let names = vec![\"Bob\", \"Frank\", \"Ferris\"];\n",
    "\n",
    "for name in names{\n",
    "    println!(\"Hello {}\", name);\n",
    "    \n",
    "};"
   ]
  },
  {
   "cell_type": "markdown",
   "id": "de625bf5",
   "metadata": {},
   "source": [
    "##### match"
   ]
  },
  {
   "cell_type": "markdown",
   "id": "c032c298",
   "metadata": {},
   "source": [
    "Es un switch de C"
   ]
  },
  {
   "cell_type": "code",
   "execution_count": 83,
   "id": "2c26a8c9",
   "metadata": {},
   "outputs": [
    {
     "name": "stdout",
     "output_type": "stream",
     "text": [
      "Dime sobre el numero 5\n",
      "Es primo!\n"
     ]
    }
   ],
   "source": [
    "let number = 5;\n",
    "//probar con diferentes\n",
    "\n",
    "println!(\"Dime sobre el numero {}\", number);\n",
    "match number {\n",
    "    // Comparar con solo un valor\n",
    "    1 => println!(\"Uno!\"),\n",
    "    // Comparar con multiples valores\n",
    "    2 | 3 | 5 | 7 | 11 => println!(\"Es primo!\"),\n",
    "    // Comprar con un rango\n",
    "    16..=19 => println!(\"Ya puedes manejar :)\"),\n",
    "    // Default\n",
    "    _ => println!(\"Nada especial :( \"),\n",
    "};"
   ]
  },
  {
   "cell_type": "markdown",
   "id": "0641dfc2",
   "metadata": {},
   "source": [
    "## Funciones"
   ]
  },
  {
   "cell_type": "markdown",
   "id": "d777935d",
   "metadata": {},
   "source": [
    "Las funciones se crean por medio de la palabra clave `fn`. Tiene como estructura `fn nombre (parametros)` -> `Tipo de dato de retorno`"
   ]
  },
  {
   "cell_type": "code",
   "execution_count": 85,
   "id": "32a0a2e6",
   "metadata": {},
   "outputs": [
    {
     "data": {
      "text/plain": [
       "16"
      ]
     },
     "execution_count": 85,
     "metadata": {},
     "output_type": "execute_result"
    }
   ],
   "source": [
    "fn duplicar(num: i32) -> i32{\n",
    "    num*2\n",
    "}\n",
    "\n",
    "duplicar(8)"
   ]
  },
  {
   "cell_type": "markdown",
   "id": "c9986528",
   "metadata": {},
   "source": [
    "### Metodos"
   ]
  },
  {
   "cell_type": "markdown",
   "id": "df9cd32c",
   "metadata": {},
   "source": [
    "Son funciones atadas a objetos"
   ]
  },
  {
   "cell_type": "code",
   "execution_count": 87,
   "id": "920688aa",
   "metadata": {},
   "outputs": [
    {
     "name": "stdout",
     "output_type": "stream",
     "text": [
      "El area es 450\n"
     ]
    }
   ],
   "source": [
    "struct Rectangle {\n",
    "    base: i32,\n",
    "    altura: i32,\n",
    "}\n",
    "\n",
    "impl Rectangle {\n",
    "    \n",
    "    fn new(base: i32, altura: i32) -> Rectangle {\n",
    "        Rectangle { base: base, altura: altura }\n",
    "    }\n",
    "    \n",
    "    //self se refiere al objeto de llama la funcion\n",
    "    fn area(&self) -> i32 {\n",
    "\n",
    "        let base = self.base;\n",
    "        let altura = self.altura;\n",
    "        \n",
    "        base * altura\n",
    "    }\n",
    "\n",
    "}\n",
    "\n",
    "let rectangle = Rectangle::new(15,30);\n",
    "println!(\"El area es {}\",rectangle.area());"
   ]
  },
  {
   "cell_type": "markdown",
   "id": "72e2d7b3",
   "metadata": {},
   "source": [
    "### Clousures"
   ]
  },
  {
   "cell_type": "markdown",
   "id": "56148edf",
   "metadata": {},
   "source": [
    "Son parecidas a las funciones lambdas"
   ]
  },
  {
   "cell_type": "code",
   "execution_count": 98,
   "id": "9d94c6dd",
   "metadata": {},
   "outputs": [
    {
     "name": "stdout",
     "output_type": "stream",
     "text": [
      "function: 6\n",
      "closure_annotated: 6\n"
     ]
    }
   ],
   "source": [
    "fn main () {\n",
    "    fn function(i: i32) -> i32 { i + 1 }\n",
    "    let closure_annotated = |i: i32| -> i32 { i + 1 };\n",
    "    \n",
    "    let i = 5;\n",
    "    println!(\"function: {}\", function(i));\n",
    "    println!(\"closure_annotated: {}\", closure_annotated(i));\n",
    "}\n",
    "main();"
   ]
  },
  {
   "cell_type": "markdown",
   "id": "991f96ff",
   "metadata": {},
   "source": [
    "## Ownership"
   ]
  },
  {
   "cell_type": "markdown",
   "id": "75704d96",
   "metadata": {},
   "source": [
    "Ahora veamos lo aprendido en las presentaciones en codigo. Como recuerdan los valores tienen un unico dueño y solo se pueden \"prestar\" o mover (dar la ownership) esto previene que los recursos sean liberados mas de una vez .\n",
    "\n",
    "Despues de que un recurso se \"mueva\" el dueño previo no puede usar ese recurso."
   ]
  },
  {
   "cell_type": "code",
   "execution_count": 108,
   "id": "c4faf2d2-05cf-40c1-b023-67832b0ba930",
   "metadata": {},
   "outputs": [
    {
     "ename": "Error",
     "evalue": "borrow of moved value: `x`",
     "output_type": "error",
     "traceback": [
      "let y = x;",
      "\u001b[91m        ^\u001b[0m \u001b[94mvalue moved here\u001b[0m",
      "println!(\"{}\", x.0);",
      "\u001b[91m               ^^^\u001b[0m \u001b[94mvalue borrowed here after move\u001b[0m",
      "let x = Foo(1);",
      "\u001b[91m    ^\u001b[0m \u001b[94mmove occurs because `x` has type `Foo`, which does not implement the `Copy` trait\u001b[0m",
      "borrow of moved value: `x`"
     ]
    }
   ],
   "source": [
    "//Recuerdan las estructuras unit type?\n",
    "struct Foo(i32);\n",
    "\n",
    "//Foo(1) le pertenece ahora a la variable X \n",
    "let x = Foo(1);\n",
    "\n",
    "// Ahora Foo(1) le pertenece a y, y x ya no tiene valor, \n",
    "// esto se le conoce como MOVE de Foo(1) a y\n",
    "let y = x;\n",
    "// Error: x ya no tiene el valor de Foo(1), ahora eso le pertenece a y\n",
    "println!(\"{}\", x.0);"
   ]
  },
  {
   "cell_type": "code",
   "execution_count": 109,
   "id": "ccf7d9ea",
   "metadata": {},
   "outputs": [
    {
     "name": "stdout",
     "output_type": "stream",
     "text": [
      "1\n"
     ]
    }
   ],
   "source": [
    "struct Foo(i32);\n",
    "let x = Foo(1);\n",
    "\n",
    "let y = x;\n",
    "\n",
    "println!(\"{}\", y.0);"
   ]
  },
  {
   "cell_type": "markdown",
   "id": "5bd87bdf",
   "metadata": {},
   "source": [
    "#### Movimientos parciales"
   ]
  },
  {
   "cell_type": "markdown",
   "id": "a21e0bac",
   "metadata": {},
   "source": [
    "Esto permite parte de la variable se mueva y otra parte permanezca. En este caso la variable padre no puede usarse de manera completa solo lo que permanece."
   ]
  },
  {
   "cell_type": "code",
   "execution_count": 115,
   "id": "71188219",
   "metadata": {},
   "outputs": [
    {
     "name": "stdout",
     "output_type": "stream",
     "text": [
      "The person's age is 20\n",
      "The person's name is Alice\n",
      "The person's age from person struct is 20\n"
     ]
    }
   ],
   "source": [
    "fn main() {\n",
    "    #[derive(Debug)]\n",
    "    struct Person {\n",
    "        name: String,\n",
    "        age: u8,\n",
    "    }\n",
    "\n",
    "    let person = Person {\n",
    "        name: String::from(\"Alice\"),\n",
    "        age: 20,\n",
    "    };\n",
    "\n",
    "    // el valor `name` se movio afuera de Person pero age al usar ref permanece\n",
    "    let Person { name, ref age } = person;\n",
    "\n",
    "    println!(\"The person's age is {}\", age);\n",
    "\n",
    "    println!(\"The person's name is {}\", name);\n",
    "\n",
    "\n",
    "    // Si llamo name para person saldra error porque este ya no es dueño\n",
    "    //println!(\"The person struct is {:?}\", person.name);\n",
    "\n",
    "    // `person` ya no se puede usar pero `person.age` si puede usarse ya que este no se mueve\n",
    "    println!(\"The person's age from person struct is {}\", person.age);\n",
    "}\n",
    "\n",
    "main();"
   ]
  },
  {
   "cell_type": "markdown",
   "id": "05b6dc14",
   "metadata": {},
   "source": [
    "## Borrowing"
   ]
  },
  {
   "cell_type": "markdown",
   "id": "e673987a",
   "metadata": {},
   "source": [
    "Esta caracteristica la usamos cuando queremos acceder a datos de otra variable sin tomar propiedad de este. "
   ]
  },
  {
   "cell_type": "code",
   "execution_count": 118,
   "id": "c90c85da",
   "metadata": {},
   "outputs": [
    {
     "name": "stdout",
     "output_type": "stream",
     "text": [
      "This int is: 5\n",
      "This int is: 6\n",
      "This int is: 5\n",
      "Destroying box that contains 5\n"
     ]
    }
   ],
   "source": [
    "fn eat_box_i32(boxed_i32: Box<i32>) {\n",
    "    println!(\"Destroying box that contains {}\", boxed_i32);\n",
    "}\n",
    "\n",
    "// This function borrows an i32\n",
    "fn borrow_i32(borrowed_i32: &i32) {\n",
    "    println!(\"This int is: {}\", borrowed_i32);\n",
    "}\n",
    "\n",
    "fn main() {\n",
    "    // Create a boxed i32, and a stacked i32\n",
    "    let boxed_i32 = Box::new(5_i32);\n",
    "    let stacked_i32 = 6_i32;\n",
    "\n",
    "    // Borrow the contents of the box. Ownership is not taken,\n",
    "    // so the contents can be borrowed again.\n",
    "    borrow_i32(&boxed_i32);\n",
    "    borrow_i32(&stacked_i32);\n",
    "\n",
    "    {\n",
    "        // Take a reference to the data contained inside the box\n",
    "        let _ref_to_i32: &i32 = &boxed_i32;\n",
    "\n",
    "        // Error!\n",
    "        // Can't destroy `boxed_i32` while the inner value is borrowed later in scope.\n",
    "        //eat_box_i32(boxed_i32);\n",
    "        // FIXME ^ Comment out this line\n",
    "\n",
    "        // Attempt to borrow `_ref_to_i32` after inner value is destroyed\n",
    "        borrow_i32(_ref_to_i32);\n",
    "        // `_ref_to_i32` goes out of scope and is no longer borrowed.\n",
    "    }\n",
    "\n",
    "    // `boxed_i32` can now give up ownership to `eat_box` and be destroyed\n",
    "    eat_box_i32(boxed_i32);\n",
    "}\n",
    "main();"
   ]
  },
  {
   "cell_type": "markdown",
   "id": "e5693ae5",
   "metadata": {},
   "source": [
    "## Lifetimes"
   ]
  },
  {
   "cell_type": "markdown",
   "id": "0a889b94",
   "metadata": {},
   "source": [
    "Es una contruccion el compilador usa para que todos los \"borrows\" sean validos. Especificamente el tiempo de vida de una variable empieza cuando esta es creada y termina cuando es destruida, este esta relacionado con los scopes.\n"
   ]
  },
  {
   "cell_type": "code",
   "execution_count": 100,
   "id": "40e16f70-f493-41d5-b86c-9f7e09b2a319",
   "metadata": {},
   "outputs": [],
   "source": [
    "\n",
    "fn main() {\n",
    "    let i = 3; //Lifetime de `i` empieza. ─────────────────┐\n",
    "    //                                                     │\n",
    "    { //  scope1                                           │\n",
    "        let borrow1 = &i; // borrow 1 lifetime empieza. ──┐│\n",
    "        //                                                ││\n",
    "        println!(\"borrow1: {}\", borrow1); //              ││\n",
    "    } // `borrow1 lt termina. ────────────────────────────┘│\n",
    "    //                                                     │\n",
    "    //                                                     │\n",
    "    { //  scope 2                                          │\n",
    "        let borrow2 = &i; // `borrow2` lifetime empieza. ─┐│\n",
    "        //                                                ││\n",
    "        println!(\"borrow2: {}\", borrow2); //              ││\n",
    "    } // `borrow2` lf termina. ───────────────────────────┘│\n",
    "    //                                                     │\n",
    "}   // Lifetime termina ───────────────────────────────────┘\n"
   ]
  }
 ],
 "metadata": {
  "kernelspec": {
   "display_name": "Rust",
   "language": "rust",
   "name": "rust"
  },
  "language_info": {
   "codemirror_mode": "rust",
   "file_extension": ".rs",
   "mimetype": "text/rust",
   "name": "Rust",
   "pygment_lexer": "rust",
   "version": ""
  }
 },
 "nbformat": 4,
 "nbformat_minor": 5
}
