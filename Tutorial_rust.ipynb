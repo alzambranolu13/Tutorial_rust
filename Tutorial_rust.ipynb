{
 "cells": [
  {
   "cell_type": "code",
   "execution_count": 2,
   "id": "3f2ee747-048e-4b0b-8748-cb19db41c390",
   "metadata": {},
   "outputs": [
    {
     "name": "stdout",
     "output_type": "stream",
     "text": [
      "Hello World\n"
     ]
    },
    {
     "data": {
      "text/plain": [
       "()"
      ]
     },
     "execution_count": 2,
     "metadata": {},
     "output_type": "execute_result"
    }
   ],
   "source": [
    "println!(\"Hello World\")"
   ]
  },
  {
   "cell_type": "code",
   "execution_count": 17,
   "id": "40e16f70-f493-41d5-b86c-9f7e09b2a319",
   "metadata": {},
   "outputs": [],
   "source": [
    "// 'a es el lifetime basico \n",
    "fn hello<'a>() -> &'a str{\n",
    "    \"Hello World! :)\"\n",
    "    //sin lifetime esta variable se eliminaria al terminar la funcion\n",
    "}"
   ]
  },
  {
   "cell_type": "code",
   "execution_count": 15,
   "id": "8f760dea-7f79-48ad-bf3e-c01bc64af74a",
   "metadata": {},
   "outputs": [],
   "source": [
    "fn times() -> i32 {\n",
    "    5 //ultimo dato es el que se devuelve\n",
    "}"
   ]
  },
  {
   "cell_type": "code",
   "execution_count": 18,
   "id": "777170f6-f844-4dd7-9a8a-905d4bc58346",
   "metadata": {},
   "outputs": [
    {
     "name": "stdout",
     "output_type": "stream",
     "text": [
      "Hello World! :)\n",
      "Hello World! :)\n",
      "Hello World! :)\n",
      "Hello World! :)\n",
      "Hello World! :)\n"
     ]
    },
    {
     "data": {
      "text/plain": [
       "()"
      ]
     },
     "execution_count": 18,
     "metadata": {},
     "output_type": "execute_result"
    }
   ],
   "source": [
    "let msg:&str = hello();\n",
    "let t= times();\n",
    "for i in 0..t{\n",
    "   println!(\"{}\",msg) \n",
    "}\n",
    "\n"
   ]
  },
  {
   "cell_type": "code",
   "execution_count": null,
   "id": "c4faf2d2-05cf-40c1-b023-67832b0ba930",
   "metadata": {},
   "outputs": [],
   "source": []
  }
 ],
 "metadata": {
  "kernelspec": {
   "display_name": "Rust",
   "language": "rust",
   "name": "rust"
  },
  "language_info": {
   "codemirror_mode": "rust",
   "file_extension": ".rs",
   "mimetype": "text/rust",
   "name": "Rust",
   "pygment_lexer": "rust",
   "version": ""
  }
 },
 "nbformat": 4,
 "nbformat_minor": 5
}
