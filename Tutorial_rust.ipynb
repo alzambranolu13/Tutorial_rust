{
 "cells": [
  {
   "cell_type": "markdown",
   "id": "ba8d2ed2",
   "metadata": {},
   "source": [
    "# Tutorial Rust\n",
    "\n",
    "A continuación veremos todos los aspectos basicos y avanzados de Rust."
   ]
  },
  {
   "cell_type": "markdown",
   "id": "ca7c56e4",
   "metadata": {},
   "source": [
    "## Hello World \n",
    "Primero que todo el famoso \"Hello World!\". En un jupyter notebook no es necesario tener una funcion main sin embargo en un proyecto normal de Rust es necesario tenerla."
   ]
  },
  {
   "cell_type": "code",
   "execution_count": 10,
   "id": "e269ea55",
   "metadata": {},
   "outputs": [
    {
     "name": "stdout",
     "output_type": "stream",
     "text": [
      "Hello World!\n"
     ]
    }
   ],
   "source": [
    "fn main() {\n",
    "    println!(\"Hello World!\");\n",
    "}\n",
    "main();"
   ]
  },
  {
   "cell_type": "markdown",
   "id": "2fe738a5",
   "metadata": {},
   "source": [
    "## Conceptos basicos de programación"
   ]
  },
  {
   "cell_type": "markdown",
   "id": "294314a4",
   "metadata": {},
   "source": [
    "### Formateo"
   ]
  },
  {
   "cell_type": "markdown",
   "id": "ffdf127c",
   "metadata": {},
   "source": [
    "El formateo puede ser por medio del orden de las variables en corchetes"
   ]
  },
  {
   "cell_type": "code",
   "execution_count": 11,
   "id": "ee67974f",
   "metadata": {},
   "outputs": [
    {
     "name": "stdout",
     "output_type": "stream",
     "text": [
      "Alice, this is Bob. Bob, this is Alice\n"
     ]
    }
   ],
   "source": [
    "println!(\"{0}, this is {1}. {1}, this is {0}\", \"Alice\", \"Bob\");"
   ]
  },
  {
   "cell_type": "markdown",
   "id": "c6507a12",
   "metadata": {},
   "source": [
    "O puede ser llamándolo por el nombre de la variable en los corchetes"
   ]
  },
  {
   "cell_type": "code",
   "execution_count": 12,
   "id": "97e1428c",
   "metadata": {},
   "outputs": [
    {
     "name": "stdout",
     "output_type": "stream",
     "text": [
      "the quick brown fox jumps over the lazy dog\n"
     ]
    }
   ],
   "source": [
    "println!(\"{subject} {verb} {object}\",\n",
    "    object=\"the lazy dog\",\n",
    "    subject=\"the quick brown fox\",\n",
    "    verb=\"jumps over\");"
   ]
  },
  {
   "cell_type": "markdown",
   "id": "122edd7f",
   "metadata": {},
   "source": [
    "### Tipos y declaración de variables"
   ]
  },
  {
   "cell_type": "markdown",
   "id": "36b7bb7e",
   "metadata": {},
   "source": [
    "#### Primitivos"
   ]
  },
  {
   "cell_type": "markdown",
   "id": "5fda696b",
   "metadata": {},
   "source": [
    "En rust tenemos dos grupos grandes de primiticos los: escalares y los compuestos.\n",
    "\n",
    "###### Escalares:\n",
    "- signed integers: son enteros con signo y con un tamaño especifico de puntero(i8, i16, ...)\n",
    "- unsigned integers: son enteros sin signo y con un tamaño especifico de puntero(u8, u16, ...)\n",
    "- floating point: son numeros reales con tamaño especifico (f32, f64)\n",
    "- char: son caracteres de unicode de 4 bytes ('a', 'α', '∞')\n",
    "- bool: son o \"true\" o \"false\"\n",
    "\n",
    "###### Compuestos:\n",
    "- arrays: son colecciones que almacenan un solo tipo de dato. Es necesario especificar su tamaño y su tipo explicitamente. ([1,2,3])\n",
    "- tuples: son colecciones de valores de diferentes tipos.( (1,true) )"
   ]
  },
  {
   "cell_type": "code",
   "execution_count": 15,
   "id": "d9b704db",
   "metadata": {},
   "outputs": [],
   "source": [
    "    let logical: bool = true;\n",
    "\n",
    "    let a_float: f64 = 1.0;  // Anotacion regular especificando nombre: Tipo\n",
    "    let an_integer   = 5i32; // Anotacion sufija especificando el tipo de dato en el valor\n",
    "\n",
    "    //O sino se especifica el tipo se pondra el default\n",
    "    let default_float   = 3.0; // `f64`\n",
    "    let default_integer = 7;   // `i32`\n",
    "    let a_bool = true;\n",
    "    let a_char= 'a';\n",
    "\n",
    "    // Tuplas de diferentes tipos de datos\n",
    "    let tuple_of_tuples = (1u8, \"Hola\", true);\n",
    "\n",
    "    // Arreglo de tamaño 5 y de tipo entero 32\n",
    "    let xs: [i32; 5] = [1, 2, 3, 4, 5];"
   ]
  },
  {
   "cell_type": "markdown",
   "id": "f24c7c06",
   "metadata": {},
   "source": [
    "#### Tipos personalizados"
   ]
  },
  {
   "cell_type": "markdown",
   "id": "cb6bc8cd",
   "metadata": {},
   "source": [
    "Struct: son estructuras, similares a las que tiene el lenguaje C. Hay tres tipos de estructuras:\n",
    "- Basicas (iguales a las de C)\n",
    "- Estructuras de tuplas \n",
    "- Unit structs (no tienen campos)\n"
   ]
  },
  {
   "cell_type": "code",
   "execution_count": 18,
   "id": "7abd78cd",
   "metadata": {},
   "outputs": [],
   "source": [
    "// Estructura basica\n",
    "struct Person {\n",
    "    name: String,\n",
    "    age: u8,\n",
    "}\n",
    "\n",
    "// Estructura de tupla\n",
    "struct Pair(i32, bool);\n",
    "\n",
    "// Unit struct\n",
    "struct Unit;\n",
    "\n",
    "// A instanciar!\n",
    "let Person: Person = Person { name: \"Alejandra\".to_string() , age: 20u8 };\n",
    "let Par:Pair = Pair(1, false);\n"
   ]
  },
  {
   "cell_type": "markdown",
   "id": "6d260dcb",
   "metadata": {},
   "source": [
    "Enum: permite la creacion de un tipo que puede ser uno de muchas variantes"
   ]
  },
  {
   "cell_type": "code",
   "execution_count": 21,
   "id": "135e641a",
   "metadata": {},
   "outputs": [],
   "source": [
    "enum WebEvent {\n",
    "    // Un enum puede ser \"unit-like\",\n",
    "    PageLoad,\n",
    "    PageUnload,\n",
    "    // O tuplas\n",
    "    KeyPress(char),\n",
    "    Paste(String),\n",
    "    // O estructuras básicas\n",
    "    Click { x: i64, y: i64 },\n",
    "}\n",
    "\n",
    "let pressed = WebEvent::KeyPress('x');\n",
    "let pasted  = WebEvent::Paste(\"my text\".to_owned());\n",
    "let click   = WebEvent::Click { x: 20, y: 80 };\n",
    "let load    = WebEvent::PageLoad;\n",
    "let unload  = WebEvent::PageUnload;\n"
   ]
  },
  {
   "cell_type": "markdown",
   "id": "f5026409",
   "metadata": {},
   "source": [
    "Constantes: Rust tiene dos tipos de constantes\n",
    "\n",
    "- const: un valor no mutable\n",
    "- static: valor mutable con ciclo de vida estático. Acceder a estos datos es inseguro "
   ]
  },
  {
   "cell_type": "code",
   "execution_count": 26,
   "id": "d1792383",
   "metadata": {},
   "outputs": [
    {
     "name": "stdout",
     "output_type": "stream",
     "text": [
      "This is Rust\n",
      "The threshold is 10\n"
     ]
    }
   ],
   "source": [
    "static LANGUAGE: &str = \"Rust\";\n",
    "const THRESHOLD: i32 = 10;\n",
    "\n",
    "fn main() {\n",
    "    println!(\"This is {}\", LANGUAGE);\n",
    "    println!(\"The threshold is {}\", THRESHOLD);\n",
    "}\n",
    "main();\n"
   ]
  },
  {
   "cell_type": "markdown",
   "id": "64f9a132",
   "metadata": {},
   "source": [
    "#### Mutabilidad"
   ]
  },
  {
   "cell_type": "markdown",
   "id": "f58cab25",
   "metadata": {},
   "source": [
    "Por defecto TODAS las variables son inmutables, para modificarlas es necesario utilizar la palabra reservada `mut`"
   ]
  },
  {
   "cell_type": "code",
   "execution_count": 29,
   "id": "a5ea16b3",
   "metadata": {},
   "outputs": [
    {
     "ename": "Error",
     "evalue": "cannot assign twice to immutable variable `_immutable_binding`",
     "output_type": "error",
     "traceback": [
      "    let _immutable_binding = 1;",
      "\u001b[91m        ^^^^^^^^^^^^^^^^^^\u001b[0m \u001b[94mfirst assignment to `_immutable_binding`\u001b[0m",
      "    _immutable_binding += 1;",
      "\u001b[91m    ^^^^^^^^^^^^^^^^^^^^^^^\u001b[0m \u001b[94mcannot assign twice to immutable variable\u001b[0m",
      "cannot assign twice to immutable variable `_immutable_binding`",
      "\u001b[1mhelp\u001b[0m: make this binding mutable\n\nmut _immutable_binding"
     ]
    }
   ],
   "source": [
    "fn main() {\n",
    "    let _immutable_binding = 1;\n",
    "    let mut mutable_binding = 1;\n",
    "\n",
    "    println!(\"Before mutation: {}\", mutable_binding);\n",
    "\n",
    "    // Ok\n",
    "    mutable_binding += 1;\n",
    "\n",
    "    println!(\"After mutation: {}\", mutable_binding);\n",
    "\n",
    "    // ERROR! Al intentar de modificar la variable\n",
    "    _immutable_binding += 1;\n",
    "\n",
    "}\n"
   ]
  },
  {
   "cell_type": "markdown",
   "id": "54786b36",
   "metadata": {},
   "source": [
    "#### Scope y shadowing"
   ]
  },
  {
   "cell_type": "markdown",
   "id": "dd2f04f9",
   "metadata": {},
   "source": [
    "Todas las variables tienen un \"scope\" o alcance, la vida de la variable esta delimitada por un bloque referenciado por dos corchetes `{}`"
   ]
  },
  {
   "cell_type": "code",
   "execution_count": 33,
   "id": "0bb86c04",
   "metadata": {},
   "outputs": [
    {
     "name": "stdout",
     "output_type": "stream",
     "text": [
      "antes de shadowing: 1\n",
      "shadowed en bloque interior abc\n",
      "afuera del bloque interior: 1\n",
      "shadowed en bloque exterior 2\n"
     ]
    }
   ],
   "source": [
    "fn main() {\n",
    "    let shadowed_binding = 1;\n",
    "\n",
    "    {\n",
    "        println!(\"antes de shadowing: {}\", shadowed_binding);\n",
    "\n",
    "        // Esta asignacion le hace \"shadowing\" a la anterior \n",
    "        let shadowed_binding = \"abc\";\n",
    "\n",
    "        println!(\"shadowed en bloque interior {}\", shadowed_binding);\n",
    "    }\n",
    "    println!(\"afuera del bloque interior: {}\", shadowed_binding);\n",
    "\n",
    "    let shadowed_binding = 2;\n",
    "    println!(\"shadowed en bloque exterior {}\", shadowed_binding);\n",
    "}\n",
    "main();"
   ]
  },
  {
   "cell_type": "markdown",
   "id": "5df64787",
   "metadata": {},
   "source": [
    "#### Casting"
   ]
  },
  {
   "cell_type": "markdown",
   "id": "3280b4b6",
   "metadata": {},
   "source": [
    "En Rust no existe el casting implícito entre tipos de datos, pero se puede forzar explícitamente usando la palabra reservada `[as]`"
   ]
  },
  {
   "cell_type": "code",
   "execution_count": 34,
   "id": "1b9d549f",
   "metadata": {},
   "outputs": [],
   "source": [
    "    let decimal = 65.4321_f32;\n",
    "\n",
    "    // Conversion explicita\n",
    "    let integer = decimal as u8;\n",
    "    let character = integer as char;"
   ]
  },
  {
   "cell_type": "markdown",
   "id": "c8ab2406",
   "metadata": {},
   "source": [
    "#### Conversiones"
   ]
  },
  {
   "cell_type": "markdown",
   "id": "84f1e86f",
   "metadata": {},
   "source": [
    "Tambien es posible, hacer casting a tus propios tipos de datos y estructuras por medio de las conversiones.\n"
   ]
  },
  {
   "cell_type": "markdown",
   "id": "9d2e6eff",
   "metadata": {},
   "source": [
    "###### From, Into"
   ]
  },
  {
   "cell_type": "markdown",
   "id": "5d0255b2",
   "metadata": {},
   "source": [
    "`From`: este trait permite definir como un tipo de dato personalizado puede crearse a si mismo desde otro tipo de dato"
   ]
  },
  {
   "cell_type": "code",
   "execution_count": 35,
   "id": "1eab8ff0",
   "metadata": {},
   "outputs": [],
   "source": [
    "let my_str = \"hello\";\n",
    "let my_string = String::from(my_str);"
   ]
  },
  {
   "cell_type": "markdown",
   "id": "e297480b",
   "metadata": {},
   "source": [
    "`Into`: este trait es reciproco a `From`. Permite definir como crear otro tipo de dato a partir de un tipo de dato personalizado"
   ]
  },
  {
   "cell_type": "code",
   "execution_count": 39,
   "id": "66293fbb",
   "metadata": {},
   "outputs": [
    {
     "name": "stdout",
     "output_type": "stream",
     "text": [
      "My number is Number { value: 5 }\n"
     ]
    }
   ],
   "source": [
    "use std::convert::From;\n",
    "\n",
    "#[derive(Debug)]\n",
    "struct Number {\n",
    "    value: i32,\n",
    "}\n",
    "\n",
    "impl From<i32> for Number {\n",
    "    fn from(item: i32) -> Self {\n",
    "        Number { value: item }\n",
    "    }\n",
    "}\n",
    "\n",
    "fn main() {\n",
    "    let int = 5;\n",
    "    // Try removing the type declaration\n",
    "    let num: Number = int.into();\n",
    "    println!(\"My number is {:?}\", num);\n",
    "}\n",
    "main();"
   ]
  },
  {
   "cell_type": "markdown",
   "id": "8107ea47",
   "metadata": {},
   "source": [
    "#### Expresiones"
   ]
  },
  {
   "cell_type": "markdown",
   "id": "58f72c43",
   "metadata": {},
   "source": [
    "Ya hemos visto muchos ejemplos de expresiones en Rust pero queremos añadir datos adicionales especiales de este lenguaje. Por ejemplo, los bloques de código cuentan como expresiones por lo tanto pueden ser asignados a una variable."
   ]
  },
  {
   "cell_type": "code",
   "execution_count": 56,
   "id": "0579ed9d",
   "metadata": {},
   "outputs": [
    {
     "name": "stdout",
     "output_type": "stream",
     "text": [
      "z is 10\n"
     ]
    }
   ],
   "source": [
    "let x = 5u32;\n",
    "let z = {\n",
    "    2 * x\n",
    "};\n",
    "\n",
    "println!(\"z is {:?}\", z);"
   ]
  },
  {
   "cell_type": "markdown",
   "id": "8553b79a",
   "metadata": {},
   "source": [
    "## Estructuras de control"
   ]
  },
  {
   "cell_type": "markdown",
   "id": "74273103",
   "metadata": {},
   "source": [
    "##### `if/else`"
   ]
  },
  {
   "cell_type": "markdown",
   "id": "6a2ba564",
   "metadata": {},
   "source": [
    "La unica diferencia con otros lenguajes es que la condición no necesita estar entre parentesis"
   ]
  },
  {
   "cell_type": "code",
   "execution_count": 58,
   "id": "bb469b69",
   "metadata": {},
   "outputs": [
    {
     "name": "stdout",
     "output_type": "stream",
     "text": [
      "5 is positive\n"
     ]
    }
   ],
   "source": [
    "let n = 5; \n",
    "if n < 0 {\n",
    "    println!(\"{} is negative\", n);\n",
    "} else if n > 0 {\n",
    "    println!(\"{} is positive\", n);\n",
    "} else {\n",
    "    println!(\"{} is zero\", n);\n",
    "};\n",
    "\n"
   ]
  },
  {
   "cell_type": "markdown",
   "id": "fd48c3e1",
   "metadata": {},
   "source": [
    "##### `loop`"
   ]
  },
  {
   "cell_type": "markdown",
   "id": "1624acb2",
   "metadata": {},
   "source": [
    "Ciclo infinito "
   ]
  },
  {
   "cell_type": "code",
   "execution_count": 63,
   "id": "9cb85a6d",
   "metadata": {},
   "outputs": [
    {
     "name": "stdout",
     "output_type": "stream",
     "text": [
      "1\n",
      "2\n",
      "3\n",
      "4\n",
      "5\n",
      "Okey, suficiente\n"
     ]
    }
   ],
   "source": [
    "let mut count = 0u32;\n",
    "loop {\n",
    "    count += 1;\n",
    "\n",
    "    println!(\"{}\", count);\n",
    "\n",
    "    if count == 5 {\n",
    "        println!(\"Okey, suficiente\");\n",
    "\n",
    "        // Exit this loop\n",
    "        break;\n",
    "    }\n",
    "};"
   ]
  },
  {
   "cell_type": "markdown",
   "id": "a56dcffa",
   "metadata": {},
   "source": [
    "##### `while`"
   ]
  },
  {
   "cell_type": "markdown",
   "id": "7737377d",
   "metadata": {},
   "source": [
    "Parecido a un `loop` pero con condicion"
   ]
  },
  {
   "cell_type": "code",
   "execution_count": 66,
   "id": "805a0cf2",
   "metadata": {},
   "outputs": [
    {
     "name": "stdout",
     "output_type": "stream",
     "text": [
      "1\n",
      "2\n",
      "fizz\n",
      "4\n",
      "buzz\n",
      "fizz\n",
      "7\n",
      "8\n",
      "fizz\n"
     ]
    }
   ],
   "source": [
    "let mut n = 1;\n",
    "while n < 10 {\n",
    "    if n % 15 == 0 {\n",
    "        println!(\"fizzbuzz\");\n",
    "    } else if n % 3 == 0 {\n",
    "        println!(\"fizz\");\n",
    "    } else if n % 5 == 0 {\n",
    "        println!(\"buzz\");\n",
    "    } else {\n",
    "        println!(\"{}\", n);\n",
    "    }\n",
    "\n",
    "    // Increment counter\n",
    "    n += 1;\n",
    "};"
   ]
  },
  {
   "cell_type": "markdown",
   "id": "2bce27f7",
   "metadata": {},
   "source": [
    "##### `for` y `rangos`"
   ]
  },
  {
   "cell_type": "markdown",
   "id": "08bebf1e",
   "metadata": {},
   "source": [
    "Un poco mas parecido al `for` en python"
   ]
  },
  {
   "cell_type": "code",
   "execution_count": 77,
   "id": "b83c1f8d",
   "metadata": {},
   "outputs": [
    {
     "name": "stdout",
     "output_type": "stream",
     "text": [
      "0\n",
      "1\n",
      "2\n",
      "3\n",
      "4\n",
      "Hello Bob\n",
      "Hello Frank\n",
      "Hello Ferris\n"
     ]
    }
   ],
   "source": [
    "let t= 5;\n",
    "//for en Rust no inclusivo el t\n",
    "for i in 0..t{\n",
    "   println!(\"{}\",i) \n",
    "};\n",
    "\n",
    "let names = vec![\"Bob\", \"Frank\", \"Ferris\"];\n",
    "\n",
    "for name in names{\n",
    "    println!(\"Hello {}\", name);\n",
    "    \n",
    "};"
   ]
  },
  {
   "cell_type": "markdown",
   "id": "c660f498",
   "metadata": {},
   "source": [
    "##### `match`"
   ]
  },
  {
   "cell_type": "markdown",
   "id": "8438db3c",
   "metadata": {},
   "source": [
    "Es un switch de C"
   ]
  },
  {
   "cell_type": "code",
   "execution_count": 83,
   "id": "450ebd45",
   "metadata": {},
   "outputs": [
    {
     "name": "stdout",
     "output_type": "stream",
     "text": [
      "Dime sobre el numero 5\n",
      "Es primo!\n"
     ]
    }
   ],
   "source": [
    "let number = 5;\n",
    "//probar con diferentes\n",
    "\n",
    "println!(\"Dime sobre el numero {}\", number);\n",
    "match number {\n",
    "    // Comparar con solo un valor\n",
    "    1 => println!(\"Uno!\"),\n",
    "    // Comparar con multiples valores\n",
    "    2 | 3 | 5 | 7 | 11 => println!(\"Es primo!\"),\n",
    "    // Comprar con un rango\n",
    "    16..=19 => println!(\"Ya puedes manejar :)\"),\n",
    "    // Default\n",
    "    _ => println!(\"Nada especial :( \"),\n",
    "};"
   ]
  },
  {
   "cell_type": "markdown",
   "id": "243d5790",
   "metadata": {},
   "source": [
    "## Funciones"
   ]
  },
  {
   "cell_type": "markdown",
   "id": "77f8aa8f",
   "metadata": {},
   "source": [
    "Las funciones se crean por medio de la palabra clave `fn`. Tiene como estructura `fn nombre (parametros)` -> `Tipo de dato de retorno`"
   ]
  },
  {
   "cell_type": "code",
   "execution_count": 85,
   "id": "cca54201",
   "metadata": {},
   "outputs": [
    {
     "data": {
      "text/plain": [
       "16"
      ]
     },
     "execution_count": 85,
     "metadata": {},
     "output_type": "execute_result"
    }
   ],
   "source": [
    "fn duplicar(num: i32) -> i32{\n",
    "    num*2\n",
    "}\n",
    "\n",
    "duplicar(8)"
   ]
  },
  {
   "cell_type": "markdown",
   "id": "a30c6a1c",
   "metadata": {},
   "source": [
    "### Metodos"
   ]
  },
  {
   "cell_type": "markdown",
   "id": "09943ddb",
   "metadata": {},
   "source": [
    "Son funciones atadas a objetos"
   ]
  },
  {
   "cell_type": "code",
   "execution_count": 87,
   "id": "0acd9f2e",
   "metadata": {},
   "outputs": [
    {
     "name": "stdout",
     "output_type": "stream",
     "text": [
      "El area es 450\n"
     ]
    }
   ],
   "source": [
    "struct Rectangle {\n",
    "    base: i32,\n",
    "    altura: i32,\n",
    "}\n",
    "\n",
    "impl Rectangle {\n",
    "    \n",
    "    fn new(base: i32, altura: i32) -> Rectangle {\n",
    "        Rectangle { base: base, altura: altura }\n",
    "    }\n",
    "    \n",
    "    //self se refiere al objeto de llama la funcion\n",
    "    fn area(&self) -> i32 {\n",
    "\n",
    "        let base = self.base;\n",
    "        let altura = self.altura;\n",
    "        \n",
    "        base * altura\n",
    "    }\n",
    "\n",
    "}\n",
    "\n",
    "let rectangle = Rectangle::new(15,30);\n",
    "println!(\"El area es {}\",rectangle.area());"
   ]
  },
  {
   "cell_type": "markdown",
   "id": "7260bfaa",
   "metadata": {},
   "source": [
    "### Clousures"
   ]
  },
  {
   "cell_type": "markdown",
   "id": "bc648a50",
   "metadata": {},
   "source": [
    "Son parecidas a una función lambda"
   ]
  },
  {
   "cell_type": "code",
   "execution_count": 98,
   "id": "3fb456bd",
   "metadata": {},
   "outputs": [
    {
     "name": "stdout",
     "output_type": "stream",
     "text": [
      "function: 6\n",
      "closure_annotated: 6\n"
     ]
    }
   ],
   "source": [
    "fn main () {\n",
    "    fn function(i: i32) -> i32 { i + 1 }\n",
    "    let closure_annotated = |i: i32| -> i32 { i + 1 };\n",
    "    \n",
    "    let i = 5;\n",
    "    println!(\"function: {}\", function(i));\n",
    "    println!(\"closure_annotated: {}\", closure_annotated(i));\n",
    "}\n",
    "main();"
   ]
  },
  {
   "cell_type": "markdown",
   "id": "160e3858",
   "metadata": {},
   "source": [
    "## Ownership"
   ]
  },
  {
   "cell_type": "markdown",
   "id": "b48381bc",
   "metadata": {},
   "source": [
    "Ahora veamos lo aprendido en las presentaciones en código. Como recuerdan los valores tienen un unico dueño y solo se pueden prestar o transferir (la ownership). Esto previene que los recursos sean liberados mas de una vez.\n",
    "\n",
    "Despues de que un recurso se transfiera, el dueño previo no puede usar ese recurso."
   ]
  },
  {
   "cell_type": "code",
   "execution_count": 108,
   "id": "3da903d5",
   "metadata": {},
   "outputs": [
    {
     "ename": "Error",
     "evalue": "borrow of moved value: `x`",
     "output_type": "error",
     "traceback": [
      "let y = x;",
      "\u001b[91m        ^\u001b[0m \u001b[94mvalue moved here\u001b[0m",
      "println!(\"{}\", x.0);",
      "\u001b[91m               ^^^\u001b[0m \u001b[94mvalue borrowed here after move\u001b[0m",
      "let x = Foo(1);",
      "\u001b[91m    ^\u001b[0m \u001b[94mmove occurs because `x` has type `Foo`, which does not implement the `Copy` trait\u001b[0m",
      "borrow of moved value: `x`"
     ]
    }
   ],
   "source": [
    "//Recuerdan las estructuras unit type?\n",
    "struct Foo(i32);\n",
    "\n",
    "//Foo(1) le pertenece ahora a la variable X \n",
    "let x = Foo(1);\n",
    "\n",
    "// Ahora Foo(1) le pertenece a y, y x ya no tiene valor, \n",
    "// esto se le conoce como MOVE de Foo(1) a y\n",
    "let y = x;\n",
    "// Error: x ya no tiene el valor de Foo(1), ahora eso le pertenece a y\n",
    "println!(\"{}\", x.0);"
   ]
  },
  {
   "cell_type": "code",
   "execution_count": 109,
   "id": "0fd9c412",
   "metadata": {},
   "outputs": [
    {
     "name": "stdout",
     "output_type": "stream",
     "text": [
      "1\n"
     ]
    }
   ],
   "source": [
    "struct Foo(i32);\n",
    "let x = Foo(1);\n",
    "\n",
    "let y = x;\n",
    "\n",
    "println!(\"{}\", y.0);"
   ]
  },
  {
   "cell_type": "markdown",
   "id": "3619d05f",
   "metadata": {},
   "source": [
    "#### Movimientos parciales"
   ]
  },
  {
   "cell_type": "markdown",
   "id": "4e397bd2",
   "metadata": {},
   "source": [
    "Esto permite que parte de la variable se transfiera y otra parte permanezca. En este caso la variable padre no puede usarse de manera completa, solo lo que permanece."
   ]
  },
  {
   "cell_type": "code",
   "execution_count": 115,
   "id": "9d99744f",
   "metadata": {},
   "outputs": [
    {
     "name": "stdout",
     "output_type": "stream",
     "text": [
      "The person's age is 20\n",
      "The person's name is Alice\n",
      "The person's age from person struct is 20\n"
     ]
    }
   ],
   "source": [
    "fn main() {\n",
    "    #[derive(Debug)]\n",
    "    struct Person {\n",
    "        name: String,\n",
    "        age: u8,\n",
    "    }\n",
    "\n",
    "    let person = Person {\n",
    "        name: String::from(\"Alice\"),\n",
    "        age: 20,\n",
    "    };\n",
    "\n",
    "    // el valor `name` se movio afuera de Person pero age al usar ref permanece\n",
    "    let Person { name, ref age } = person;\n",
    "\n",
    "    println!(\"The person's age is {}\", age);\n",
    "\n",
    "    println!(\"The person's name is {}\", name);\n",
    "\n",
    "\n",
    "    // Si llamo name para person saldra error porque este ya no es dueño\n",
    "    //println!(\"The person struct is {:?}\", person.name);\n",
    "\n",
    "    // `person` ya no se puede usar pero `person.age` si puede usarse ya que este no se mueve\n",
    "    println!(\"The person's age from person struct is {}\", person.age);\n",
    "}\n",
    "\n",
    "main();"
   ]
  },
  {
   "cell_type": "markdown",
   "id": "59ff61f4",
   "metadata": {},
   "source": [
    "## Borrowing"
   ]
  },
  {
   "cell_type": "markdown",
   "id": "5e2dc8cf",
   "metadata": {},
   "source": [
    "Esta caracteristica la usamos cuando queremos acceder a datos de otra variable sin tomar propiedad de este. Esto se hace por medio de las referencias que se denotan por un `&`. Es importante decir que las referencias tanto como las variables son inmutables a menos que se especifique lo contrario."
   ]
  },
  {
   "cell_type": "code",
   "execution_count": 5,
   "id": "9fd33425",
   "metadata": {},
   "outputs": [
    {
     "name": "stdout",
     "output_type": "stream",
     "text": [
      "The length of 'hello' is 5.\n"
     ]
    }
   ],
   "source": [
    "fn main() {\n",
    "    let s1 = String::from(\"hello\");\n",
    "\n",
    "    //Aca len no tiene propiedad de s1 sino solo su referencia \n",
    "    let len = calculate_length(&s1);\n",
    "\n",
    "    println!(\"The length of '{}' is {}.\", s1, len);\n",
    "}\n",
    "\n",
    "// Recibe como parametros una referencia a un string \n",
    "fn calculate_length(s: &String) -> usize {\n",
    "    s.len()\n",
    "}\n",
    "main();"
   ]
  },
  {
   "cell_type": "code",
   "execution_count": 6,
   "id": "b30c53b5",
   "metadata": {},
   "outputs": [
    {
     "ename": "Error",
     "evalue": "cannot borrow `*some_string` as mutable, as it is behind a `&` reference",
     "output_type": "error",
     "traceback": [
      "    some_string.push_str(\", world\");",
      "\u001b[91m    ^^^^^^^^^^^\u001b[0m \u001b[94m`some_string` is a `&` reference, so the data it refers to cannot be borrowed as mutable\u001b[0m",
      "cannot borrow `*some_string` as mutable, as it is behind a `&` reference",
      "\u001b[1mhelp\u001b[0m: consider changing this to be a mutable reference\n\n&mut String"
     ]
    }
   ],
   "source": [
    "fn main() {\n",
    "    let s = String::from(\"hello\");\n",
    "\n",
    "    change(&s);\n",
    "}\n",
    "\n",
    "\n",
    "//ERROR porque la referencia es inmutable\n",
    "fn change(some_string: &String) {\n",
    "    some_string.push_str(\", world\");\n",
    "}\n",
    "main();"
   ]
  },
  {
   "cell_type": "code",
   "execution_count": 7,
   "id": "8bbd8970",
   "metadata": {},
   "outputs": [],
   "source": [
    "fn main() {\n",
    "    let mut s = String::from(\"hello\");\n",
    "\n",
    "    //Para hacer la variable mutable simplemente basta con la palabra clave \"mut\"\n",
    "    change(&mut s);\n",
    "}\n",
    "\n",
    "\n",
    "fn change(some_string: &mut String) {\n",
    "    some_string.push_str(\", world\");\n",
    "}\n",
    "main();"
   ]
  },
  {
   "cell_type": "markdown",
   "id": "5a5fc253",
   "metadata": {},
   "source": [
    "## Lifetimes"
   ]
  },
  {
   "cell_type": "markdown",
   "id": "cf5af33b",
   "metadata": {},
   "source": [
    "Es una construccion que el compilador usa para que todos los \"borrows\" sean válidos. Especificamente el tiempo de vida de una variable empieza cuando esta es creada y termina cuando es destruida. Este está relacionado con los scopes.\n"
   ]
  },
  {
   "cell_type": "code",
   "execution_count": 100,
   "id": "015a911d",
   "metadata": {},
   "outputs": [],
   "source": [
    "\n",
    "fn main() {\n",
    "    let i = 3; //Lifetime de `i` empieza. ─────────────────┐\n",
    "    //                                                     │\n",
    "    { //  scope1                                           │\n",
    "        let borrow1 = &i; // borrow 1 lifetime empieza. ──┐│\n",
    "        //                                                ││\n",
    "        println!(\"borrow1: {}\", borrow1); //              ││\n",
    "    } // `borrow1 lt termina. ────────────────────────────┘│\n",
    "    //                                                     │\n",
    "    //                                                     │\n",
    "    { //  scope 2                                          │\n",
    "        let borrow2 = &i; // `borrow2` lifetime empieza. ─┐│\n",
    "        //                                                ││\n",
    "        println!(\"borrow2: {}\", borrow2); //              ││\n",
    "    } // `borrow2` lf termina. ───────────────────────────┘│\n",
    "    //                                                     │\n",
    "}   // Lifetime termina ───────────────────────────────────┘\n"
   ]
  },
  {
   "cell_type": "markdown",
   "id": "8d07d2c6",
   "metadata": {},
   "source": [
    "## Concurrencia"
   ]
  },
  {
   "cell_type": "markdown",
   "id": "be178fbd",
   "metadata": {},
   "source": [
    "Para crear hilos llamamos la funcion `thread::spawn` y le pasamos una clousure (si no recuerdan que es esto miren la sección de **Clousures**) con el codigo que deseamos correr en los hilos dentro."
   ]
  },
  {
   "cell_type": "code",
   "execution_count": 9,
   "id": "2ac593f6",
   "metadata": {},
   "outputs": [
    {
     "name": "stdout",
     "output_type": "stream",
     "text": [
      "Hola soy el numero 1 del hilo principal\n",
      "Hola soy el hilo numero 1! \n",
      "Hola soy el hilo numero 2! \n",
      "Hola soy el numero 2 del hilo principal\n",
      "Hola soy el hilo numero 3! \n",
      "Hola soy el numero 3 del hilo principal\n",
      "Hola soy el numero 4 del hilo principal\n",
      "Hola soy el hilo numero 4! \n",
      "Hola soy el hilo numero 5! \n"
     ]
    }
   ],
   "source": [
    "use std::thread;\n",
    "use std::time::Duration;\n",
    "\n",
    "fn main() {\n",
    "    thread::spawn(||  { //clousure vacio\n",
    "        for i in 1..10 {\n",
    "            //Aqui va el codigo que queramos correr en cada hilo\n",
    "            println!(\"Hola soy el hilo numero {}! \", i);\n",
    "            //El sleep ayuda a parar la ejecucion de un hilo momentaneamente\n",
    "            thread::sleep(Duration::from_millis(1));\n",
    "        }\n",
    "    });\n",
    "\n",
    "    for i in 1..5 {\n",
    "        println!(\"Hola soy el numero {} del hilo principal\", i);\n",
    "        thread::sleep(Duration::from_millis(1));\n",
    "    }\n",
    "}\n",
    "main();"
   ]
  },
  {
   "cell_type": "markdown",
   "id": "8ed46dcc",
   "metadata": {},
   "source": [
    "Podemos esperar que todos los hilos terminen para hacer otra cosa por medio de las `JoinHandle` "
   ]
  },
  {
   "cell_type": "code",
   "execution_count": 15,
   "id": "dae03b70",
   "metadata": {},
   "outputs": [
    {
     "name": "stdout",
     "output_type": "stream",
     "text": [
      "Hola soy el hilo numero 1! \n",
      "Hola soy el hilo numero 2! \n",
      "Hola soy el hilo numero 3! \n",
      "Hola soy el hilo numero 4! \n",
      "Hola soy el hilo numero 5! \n",
      "Hola soy el hilo numero 6! \n",
      "Hola soy el hilo numero 7! \n",
      "Hola soy el hilo numero 8! \n",
      "Hola soy el hilo numero 9! \n",
      "Hola soy el numero 1 del hilo principal\n",
      "Hola soy el numero 2 del hilo principal\n",
      "Hola soy el numero 3 del hilo principal\n",
      "Hola soy el numero 4 del hilo principal\n"
     ]
    }
   ],
   "source": [
    "use std::thread;\n",
    "use std::time::Duration;\n",
    "\n",
    "fn main() {\n",
    "    let handle = thread::spawn(|| {\n",
    "        for i in 1..10 {\n",
    "            println!(\"Hola soy el hilo numero {}! \", i);\n",
    "            thread::sleep(Duration::from_millis(1));\n",
    "        }\n",
    "    });\n",
    "    \n",
    "    //Esto permite que el hilo principal espere a que todos los hilos terminen antes de continuar\n",
    "    handle.join().unwrap();\n",
    "    \n",
    "    for i in 1..5 {\n",
    "        println!(\"Hola soy el numero {} del hilo principal\", i);\n",
    "        thread::sleep(Duration::from_millis(1));\n",
    "    }\n",
    "}\n",
    "main();"
   ]
  }
 ],
 "metadata": {
  "kernelspec": {
   "display_name": "Rust",
   "language": "rust",
   "name": "rust"
  },
  "language_info": {
   "codemirror_mode": "rust",
   "file_extension": ".rs",
   "mimetype": "text/rust",
   "name": "Rust",
   "pygment_lexer": "rust",
   "version": ""
  }
 },
 "nbformat": 4,
 "nbformat_minor": 5
}
