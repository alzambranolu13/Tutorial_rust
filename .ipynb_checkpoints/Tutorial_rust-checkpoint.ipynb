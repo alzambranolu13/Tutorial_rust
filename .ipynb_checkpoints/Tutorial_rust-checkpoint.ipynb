{
 "cells": [
  {
   "cell_type": "markdown",
   "id": "4879fef7",
   "metadata": {},
   "source": [
    "# Tutorial Rust\n",
    "\n",
    "A continuación veremos todos los aspectos basicos y avanzados de Rust."
   ]
  },
  {
   "cell_type": "markdown",
   "id": "e4f2b351",
   "metadata": {},
   "source": [
    "## Hello World \n",
    "Primero que todo el famoso \"Hello World!\". En un jupyter notebook no es necesario tener una funcion main sin embargo en un proyecto normal de Rust es necesario tenerla"
   ]
  },
  {
   "cell_type": "code",
   "execution_count": 10,
   "id": "b0722af1",
   "metadata": {},
   "outputs": [
    {
     "name": "stdout",
     "output_type": "stream",
     "text": [
      "Hello World!\n"
     ]
    }
   ],
   "source": [
    "fn main() {\n",
    "    println!(\"Hello World!\");\n",
    "}\n",
    "main();"
   ]
  },
  {
   "cell_type": "markdown",
   "id": "8ae4571f",
   "metadata": {},
   "source": [
    "## Conceptos basicos de programacion"
   ]
  },
  {
   "cell_type": "markdown",
   "id": "7952f6f9",
   "metadata": {},
   "source": [
    "### Formateo"
   ]
  },
  {
   "cell_type": "markdown",
   "id": "e4b84ae0",
   "metadata": {},
   "source": [
    "El formateo puede ser por medio del orden de las variables en corchetes"
   ]
  },
  {
   "cell_type": "code",
   "execution_count": 11,
   "id": "b0474e04",
   "metadata": {},
   "outputs": [
    {
     "name": "stdout",
     "output_type": "stream",
     "text": [
      "Alice, this is Bob. Bob, this is Alice\n"
     ]
    }
   ],
   "source": [
    "println!(\"{0}, this is {1}. {1}, this is {0}\", \"Alice\", \"Bob\");"
   ]
  },
  {
   "cell_type": "markdown",
   "id": "794bd8c6",
   "metadata": {},
   "source": [
    "O puede ser llamandolo por el nombre de la variable en los corchetes"
   ]
  },
  {
   "cell_type": "code",
   "execution_count": 12,
   "id": "fa2802c5",
   "metadata": {},
   "outputs": [
    {
     "name": "stdout",
     "output_type": "stream",
     "text": [
      "the quick brown fox jumps over the lazy dog\n"
     ]
    }
   ],
   "source": [
    "println!(\"{subject} {verb} {object}\",\n",
    "    object=\"the lazy dog\",\n",
    "    subject=\"the quick brown fox\",\n",
    "    verb=\"jumps over\");"
   ]
  },
  {
   "cell_type": "markdown",
   "id": "0bdaee32",
   "metadata": {},
   "source": [
    "### Tipos y declaración de variables"
   ]
  },
  {
   "cell_type": "markdown",
   "id": "70fbc026",
   "metadata": {},
   "source": [
    "#### Primitivos"
   ]
  },
  {
   "cell_type": "markdown",
   "id": "23d1b246",
   "metadata": {},
   "source": [
    "En rust tenemos dos grupos grandes de primiticos los escalares y los compuestos.\n",
    "\n",
    "###### Escalares:\n",
    "- signed integers: son enteros con signo y con un tamaño especifico de puntero(i8, i16, ...)\n",
    "- unsigned integers: son enteros sin signo y con un tamaño especifico de puntero(u8, u16, ...)\n",
    "- floating point: son numeros reales con tamaño especifico (f32, f64)\n",
    "- char: son caracteres de unicode de 4 bytes ('a', 'α', '∞')\n",
    "- bool: son o \"true\" o \"false\"\n",
    "\n",
    "###### Compuestos:\n",
    "- arrays: son colecciones que almacenan un solo tipo de dato. Es necesario especificar su tamaño y su tipo explicitamente. ([1,2,3])\n",
    "- tuples: son colecciones de valores de diferentes tipos.( (1,true) )"
   ]
  },
  {
   "cell_type": "code",
   "execution_count": 15,
   "id": "00fe744c",
   "metadata": {},
   "outputs": [],
   "source": [
    "    let logical: bool = true;\n",
    "\n",
    "    let a_float: f64 = 1.0;  // Anotacion regular especificando nombre: Tipo\n",
    "    let an_integer   = 5i32; // Anotacion sufija especificando el tipo de dato en el valor\n",
    "\n",
    "    //O sino se especifica el tipo se pondra el default\n",
    "    let default_float   = 3.0; // `f64`\n",
    "    let default_integer = 7;   // `i32`\n",
    "    let a_bool = true;\n",
    "    let a_char= 'a';\n",
    "\n",
    "    // Tuplas de diferentes tipos de datos\n",
    "    let tuple_of_tuples = (1u8, \"Hola\", true);\n",
    "\n",
    "    // Arreglo de tamaño 5 y de tipo entero 32\n",
    "    let xs: [i32; 5] = [1, 2, 3, 4, 5];"
   ]
  },
  {
   "cell_type": "markdown",
   "id": "29ebf984",
   "metadata": {},
   "source": [
    "#### Tipos personalizados"
   ]
  },
  {
   "cell_type": "markdown",
   "id": "0b043231",
   "metadata": {},
   "source": [
    "Struct: son estructuras, similares a las que tiene el lenguaje C. Hay tres tipos de estructuras:\n",
    "- Basicas (iguales a las de C)\n",
    "- Estructuras de tuplas \n",
    "- Unit structs (no tienen campos)\n"
   ]
  },
  {
   "cell_type": "code",
   "execution_count": 18,
   "id": "3fa6aae1",
   "metadata": {},
   "outputs": [],
   "source": [
    "// Estructura basica\n",
    "struct Person {\n",
    "    name: String,\n",
    "    age: u8,\n",
    "}\n",
    "\n",
    "// Estructura de tupla\n",
    "struct Pair(i32, bool);\n",
    "\n",
    "// Unit struct\n",
    "struct Unit;\n",
    "\n",
    "// A instanciar!\n",
    "let Person: Person = Person { name: \"Alejandra\".to_string() , age: 20u8 };\n",
    "let Par:Pair = Pair(1, false);\n"
   ]
  },
  {
   "cell_type": "markdown",
   "id": "02443b77",
   "metadata": {},
   "source": [
    "Enum: permite la creacion de un tipo que puede ser uno de muchas variantes"
   ]
  },
  {
   "cell_type": "code",
   "execution_count": 21,
   "id": "227c0d8a",
   "metadata": {},
   "outputs": [],
   "source": [
    "enum WebEvent {\n",
    "    // An `enum` may either be `unit-like`,\n",
    "    PageLoad,\n",
    "    PageUnload,\n",
    "    // like tuple structs,\n",
    "    KeyPress(char),\n",
    "    Paste(String),\n",
    "    // or c-like structures.\n",
    "    Click { x: i64, y: i64 },\n",
    "}\n",
    "\n",
    "let pressed = WebEvent::KeyPress('x');\n",
    "let pasted  = WebEvent::Paste(\"my text\".to_owned());\n",
    "let click   = WebEvent::Click { x: 20, y: 80 };\n",
    "let load    = WebEvent::PageLoad;\n",
    "let unload  = WebEvent::PageUnload;\n"
   ]
  },
  {
   "cell_type": "markdown",
   "id": "19ac3e27",
   "metadata": {},
   "source": [
    "Constantes: rust tiene dos tipos de constantes\n",
    "\n",
    "- const: un valor no mutable\n",
    "- static: valor mutable con ciclo de vida estaticvo. Acceder a estos datos es inseguro "
   ]
  },
  {
   "cell_type": "code",
   "execution_count": 26,
   "id": "1f2a12f2",
   "metadata": {},
   "outputs": [
    {
     "name": "stdout",
     "output_type": "stream",
     "text": [
      "This is Rust\n",
      "The threshold is 10\n"
     ]
    }
   ],
   "source": [
    "static LANGUAGE: &str = \"Rust\";\n",
    "const THRESHOLD: i32 = 10;\n",
    "\n",
    "fn main() {\n",
    "    println!(\"This is {}\", LANGUAGE);\n",
    "    println!(\"The threshold is {}\", THRESHOLD);\n",
    "}\n",
    "main();\n"
   ]
  },
  {
   "cell_type": "markdown",
   "id": "b2d2819b",
   "metadata": {},
   "source": [
    "#### Mutabilidad"
   ]
  },
  {
   "cell_type": "markdown",
   "id": "8b060ba3",
   "metadata": {},
   "source": [
    "Por defecto TODAS las variables son inmutables, para modificarlas es necesario utilizar la palabra reservada `mut`"
   ]
  },
  {
   "cell_type": "code",
   "execution_count": 29,
   "id": "efa2e801",
   "metadata": {},
   "outputs": [
    {
     "ename": "Error",
     "evalue": "cannot assign twice to immutable variable `_immutable_binding`",
     "output_type": "error",
     "traceback": [
      "    let _immutable_binding = 1;",
      "\u001b[91m        ^^^^^^^^^^^^^^^^^^\u001b[0m \u001b[94mfirst assignment to `_immutable_binding`\u001b[0m",
      "    _immutable_binding += 1;",
      "\u001b[91m    ^^^^^^^^^^^^^^^^^^^^^^^\u001b[0m \u001b[94mcannot assign twice to immutable variable\u001b[0m",
      "cannot assign twice to immutable variable `_immutable_binding`",
      "\u001b[1mhelp\u001b[0m: make this binding mutable\n\nmut _immutable_binding"
     ]
    }
   ],
   "source": [
    "fn main() {\n",
    "    let _immutable_binding = 1;\n",
    "    let mut mutable_binding = 1;\n",
    "\n",
    "    println!(\"Before mutation: {}\", mutable_binding);\n",
    "\n",
    "    // Ok\n",
    "    mutable_binding += 1;\n",
    "\n",
    "    println!(\"After mutation: {}\", mutable_binding);\n",
    "\n",
    "    // ERROR! Al intentar de modificar la variable\n",
    "    _immutable_binding += 1;\n",
    "\n",
    "}\n"
   ]
  },
  {
   "cell_type": "markdown",
   "id": "1e35239e",
   "metadata": {},
   "source": [
    "#### Scope y shadowing"
   ]
  },
  {
   "cell_type": "markdown",
   "id": "c68b032c",
   "metadata": {},
   "source": [
    "Todas las variables tienen un \"scope\" o alcance, la vida de la variable esta delimitada por un bloque referenciado por dos corchetes `{}`"
   ]
  },
  {
   "cell_type": "code",
   "execution_count": 33,
   "id": "9bc76e10",
   "metadata": {},
   "outputs": [
    {
     "name": "stdout",
     "output_type": "stream",
     "text": [
      "antes de shadowing: 1\n",
      "shadowed en bloque interior abc\n",
      "afuera del bloque interior: 1\n",
      "shadowed en bloque exterior 2\n"
     ]
    }
   ],
   "source": [
    "fn main() {\n",
    "    let shadowed_binding = 1;\n",
    "\n",
    "    {\n",
    "        println!(\"antes de shadowing: {}\", shadowed_binding);\n",
    "\n",
    "        // Esta asignacion le hace \"shadowing\" a la anterior \n",
    "        let shadowed_binding = \"abc\";\n",
    "\n",
    "        println!(\"shadowed en bloque interior {}\", shadowed_binding);\n",
    "    }\n",
    "    println!(\"afuera del bloque interior: {}\", shadowed_binding);\n",
    "\n",
    "    let shadowed_binding = 2;\n",
    "    println!(\"shadowed en bloque exterior {}\", shadowed_binding);\n",
    "}\n",
    "main();"
   ]
  },
  {
   "cell_type": "markdown",
   "id": "0950e13c",
   "metadata": {},
   "source": [
    "#### Casting"
   ]
  },
  {
   "cell_type": "markdown",
   "id": "1ed78be3",
   "metadata": {},
   "source": [
    "En rust no existe el casting implicito entre tipos de datos, pero se puede forzar explicitamente usando la palabra reservada `as`"
   ]
  },
  {
   "cell_type": "code",
   "execution_count": 34,
   "id": "04402c0d",
   "metadata": {},
   "outputs": [],
   "source": [
    "    let decimal = 65.4321_f32;\n",
    "\n",
    "    // Conversion explicita\n",
    "    let integer = decimal as u8;\n",
    "    let character = integer as char;"
   ]
  },
  {
   "cell_type": "markdown",
   "id": "a040e454",
   "metadata": {},
   "source": [
    "#### Conversiones"
   ]
  },
  {
   "cell_type": "markdown",
   "id": "5ed64b58",
   "metadata": {},
   "source": [
    "Tambien es posible, hacer casting tus propios tipos de dato y estructuras por medio de las conversiones.\n"
   ]
  },
  {
   "cell_type": "markdown",
   "id": "46cc4376",
   "metadata": {},
   "source": [
    "###### From, Into"
   ]
  },
  {
   "cell_type": "markdown",
   "id": "4f11b180",
   "metadata": {},
   "source": [
    "From: este trait permite definir como un tipo de dato personalizado puede crearse a si mismo desde otro tipo de dato"
   ]
  },
  {
   "cell_type": "code",
   "execution_count": 35,
   "id": "60c5e9c7",
   "metadata": {},
   "outputs": [],
   "source": [
    "let my_str = \"hello\";\n",
    "let my_string = String::from(my_str);"
   ]
  },
  {
   "cell_type": "markdown",
   "id": "9b323d4c",
   "metadata": {},
   "source": [
    "Into: este trait es reciproco a `From`. Permite definir como crear otro tipo de dato a partir de un tipo de dato personalizado"
   ]
  },
  {
   "cell_type": "code",
   "execution_count": 39,
   "id": "cf4c1fc4",
   "metadata": {},
   "outputs": [
    {
     "name": "stdout",
     "output_type": "stream",
     "text": [
      "My number is Number { value: 5 }\n"
     ]
    }
   ],
   "source": [
    "use std::convert::From;\n",
    "\n",
    "#[derive(Debug)]\n",
    "struct Number {\n",
    "    value: i32,\n",
    "}\n",
    "\n",
    "impl From<i32> for Number {\n",
    "    fn from(item: i32) -> Self {\n",
    "        Number { value: item }\n",
    "    }\n",
    "}\n",
    "\n",
    "fn main() {\n",
    "    let int = 5;\n",
    "    // Try removing the type declaration\n",
    "    let num: Number = int.into();\n",
    "    println!(\"My number is {:?}\", num);\n",
    "}\n",
    "main();"
   ]
  },
  {
   "cell_type": "markdown",
   "id": "3b985ab2",
   "metadata": {},
   "source": [
    "#### Expresiones"
   ]
  },
  {
   "cell_type": "markdown",
   "id": "a3952cb6",
   "metadata": {},
   "source": [
    "Ya hemos visto muchos ejemplos de expresiones en rust pero queremos añadir datos adicionales especiales de este lenguaje. Por ejemplo, los bloques de codigo cuentan como expresiones por lo tanto pueden ser asignados a una variable."
   ]
  },
  {
   "cell_type": "code",
   "execution_count": 43,
   "id": "ece75275",
   "metadata": {},
   "outputs": [
    {
     "name": "stdout",
     "output_type": "stream",
     "text": [
      "z is 10\n"
     ]
    }
   ],
   "source": [
    "let x = 5u32;\n",
    "let z = {\n",
    "    2 * x\n",
    "};\n",
    "\n",
    "println!(\"z is {:?}\", z);"
   ]
  },
  {
   "cell_type": "markdown",
   "id": "514df211",
   "metadata": {},
   "source": [
    "## Estructuras de control"
   ]
  },
  {
   "cell_type": "markdown",
   "id": "c2827b36",
   "metadata": {},
   "source": [
    "##### if/else"
   ]
  },
  {
   "cell_type": "markdown",
   "id": "24f3529c",
   "metadata": {},
   "source": [
    "##### loop"
   ]
  },
  {
   "cell_type": "markdown",
   "id": "c7abec66",
   "metadata": {},
   "source": [
    "##### while"
   ]
  },
  {
   "cell_type": "markdown",
   "id": "7bedb69d",
   "metadata": {},
   "source": [
    "##### for y rangos"
   ]
  },
  {
   "cell_type": "markdown",
   "id": "f1f0d11e",
   "metadata": {},
   "source": [
    "##### match"
   ]
  },
  {
   "cell_type": "markdown",
   "id": "59fa93ce",
   "metadata": {},
   "source": [
    "##### if let"
   ]
  },
  {
   "cell_type": "markdown",
   "id": "694c4114",
   "metadata": {},
   "source": [
    "##### while let"
   ]
  },
  {
   "cell_type": "code",
   "execution_count": 3,
   "id": "40e16f70-f493-41d5-b86c-9f7e09b2a319",
   "metadata": {},
   "outputs": [],
   "source": [
    "// 'a es el lifetime basico \n",
    "fn hello<'a>() -> &'a str{\n",
    "    \"Hello World! :)\"\n",
    "    //sin lifetime esta variable se eliminaria al terminar la funcion\n",
    "}"
   ]
  },
  {
   "cell_type": "code",
   "execution_count": null,
   "id": "3030dc93",
   "metadata": {},
   "outputs": [],
   "source": []
  },
  {
   "cell_type": "code",
   "execution_count": 15,
   "id": "8f760dea-7f79-48ad-bf3e-c01bc64af74a",
   "metadata": {},
   "outputs": [],
   "source": [
    "fn times() -> i32 {\n",
    "    5 //ultimo dato es el que se devuelve\n",
    "}"
   ]
  },
  {
   "cell_type": "code",
   "execution_count": 18,
   "id": "777170f6-f844-4dd7-9a8a-905d4bc58346",
   "metadata": {},
   "outputs": [
    {
     "name": "stdout",
     "output_type": "stream",
     "text": [
      "Hello World! :)\n",
      "Hello World! :)\n",
      "Hello World! :)\n",
      "Hello World! :)\n",
      "Hello World! :)\n"
     ]
    },
    {
     "data": {
      "text/plain": [
       "()"
      ]
     },
     "execution_count": 18,
     "metadata": {},
     "output_type": "execute_result"
    }
   ],
   "source": [
    "let msg:&str = hello();\n",
    "let t= times();\n",
    "//for en Rust\n",
    "for i in 0..t{\n",
    "   println!(\"{}\",msg) \n",
    "}\n",
    "\n"
   ]
  },
  {
   "cell_type": "markdown",
   "id": "2f4184e6",
   "metadata": {},
   "source": [
    "## Ownership"
   ]
  },
  {
   "cell_type": "code",
   "execution_count": 4,
   "id": "c4faf2d2-05cf-40c1-b023-67832b0ba930",
   "metadata": {},
   "outputs": [
    {
     "ename": "Error",
     "evalue": "borrow of moved value: `x`",
     "output_type": "error",
     "traceback": [
      "let y = x;",
      "\u001b[91m        ^\u001b[0m \u001b[94mvalue moved here\u001b[0m",
      "println!(\"{}\", x.0);",
      "\u001b[91m               ^^^\u001b[0m \u001b[94mvalue borrowed here after move\u001b[0m",
      "let x = Foo(1);",
      "\u001b[91m    ^\u001b[0m \u001b[94mmove occurs because `x` has type `Foo`, which does not implement the `Copy` trait\u001b[0m",
      "borrow of moved value: `x`"
     ]
    }
   ],
   "source": [
    "// Defines a custom type. We cannot use a primitive type in this example because they all implement the `Copy` trait.\n",
    "struct Foo(i32);\n",
    "let x = Foo(1);\n",
    "// Move the value in `x` to `y`\n",
    "let y = x;\n",
    "// Error: x no longer has the value.\n",
    "println!(\"{}\", x.0);"
   ]
  },
  {
   "cell_type": "code",
   "execution_count": 5,
   "id": "601e3aab",
   "metadata": {},
   "outputs": [
    {
     "name": "stdout",
     "output_type": "stream",
     "text": [
      "1\n"
     ]
    }
   ],
   "source": [
    "\n",
    "// Defines a custom type. We cannot use a primitive type in this example because they all implement the `Copy` trait.\n",
    "struct Foo(i32);\n",
    "let x = Foo(1);\n",
    "// Move the value in `x` to `y`\n",
    "let y = x;\n",
    "// Error: x no longer has the value.\n",
    "println!(\"{}\", y.0);"
   ]
  },
  {
   "cell_type": "code",
   "execution_count": null,
   "id": "8182a0eb",
   "metadata": {},
   "outputs": [],
   "source": []
  }
 ],
 "metadata": {
  "kernelspec": {
   "display_name": "Rust",
   "language": "rust",
   "name": "rust"
  },
  "language_info": {
   "codemirror_mode": "rust",
   "file_extension": ".rs",
   "mimetype": "text/rust",
   "name": "Rust",
   "pygment_lexer": "rust",
   "version": ""
  }
 },
 "nbformat": 4,
 "nbformat_minor": 5
}
