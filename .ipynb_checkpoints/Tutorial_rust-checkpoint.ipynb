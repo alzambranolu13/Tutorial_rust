{
 "cells": [
  {
   "cell_type": "code",
   "execution_count": 2,
   "id": "3f2ee747-048e-4b0b-8748-cb19db41c390",
   "metadata": {},
   "outputs": [
    {
     "name": "stdout",
     "output_type": "stream",
     "text": [
      "Hello World\n"
     ]
    },
    {
     "data": {
      "text/plain": [
       "()"
      ]
     },
     "execution_count": 2,
     "metadata": {},
     "output_type": "execute_result"
    }
   ],
   "source": [
    "println!(\"Hello World\")"
   ]
  },
  {
   "cell_type": "code",
   "execution_count": 3,
   "id": "40e16f70-f493-41d5-b86c-9f7e09b2a319",
   "metadata": {},
   "outputs": [],
   "source": [
    "// 'a es el lifetime basico \n",
    "fn hello<'a>() -> &'a str{\n",
    "    \"Hello World! :)\"\n",
    "    //sin lifetime esta variable se eliminaria al terminar la funcion\n",
    "}"
   ]
  },
  {
   "cell_type": "code",
   "execution_count": 15,
   "id": "8f760dea-7f79-48ad-bf3e-c01bc64af74a",
   "metadata": {},
   "outputs": [],
   "source": [
    "fn times() -> i32 {\n",
    "    5 //ultimo dato es el que se devuelve\n",
    "}"
   ]
  },
  {
   "cell_type": "code",
   "execution_count": 18,
   "id": "777170f6-f844-4dd7-9a8a-905d4bc58346",
   "metadata": {},
   "outputs": [
    {
     "name": "stdout",
     "output_type": "stream",
     "text": [
      "Hello World! :)\n",
      "Hello World! :)\n",
      "Hello World! :)\n",
      "Hello World! :)\n",
      "Hello World! :)\n"
     ]
    },
    {
     "data": {
      "text/plain": [
       "()"
      ]
     },
     "execution_count": 18,
     "metadata": {},
     "output_type": "execute_result"
    }
   ],
   "source": [
    "let msg:&str = hello();\n",
    "let t= times();\n",
    "for i in 0..t{\n",
    "   println!(\"{}\",msg) \n",
    "}\n",
    "\n"
   ]
  },
  {
   "cell_type": "code",
   "execution_count": 4,
   "id": "c4faf2d2-05cf-40c1-b023-67832b0ba930",
   "metadata": {},
   "outputs": [
    {
     "ename": "Error",
     "evalue": "borrow of moved value: `x`",
     "output_type": "error",
     "traceback": [
      "let y = x;",
      "\u001b[91m        ^\u001b[0m \u001b[94mvalue moved here\u001b[0m",
      "println!(\"{}\", x.0);",
      "\u001b[91m               ^^^\u001b[0m \u001b[94mvalue borrowed here after move\u001b[0m",
      "let x = Foo(1);",
      "\u001b[91m    ^\u001b[0m \u001b[94mmove occurs because `x` has type `Foo`, which does not implement the `Copy` trait\u001b[0m",
      "borrow of moved value: `x`"
     ]
    }
   ],
   "source": [
    "// Defines a custom type. We cannot use a primitive type in this example because they all implement the `Copy` trait.\n",
    "struct Foo(i32);\n",
    "let x = Foo(1);\n",
    "// Move the value in `x` to `y`\n",
    "let y = x;\n",
    "// Error: x no longer has the value.\n",
    "println!(\"{}\", x.0);"
   ]
  },
  {
   "cell_type": "code",
   "execution_count": 5,
   "id": "eabad10c",
   "metadata": {},
   "outputs": [
    {
     "name": "stdout",
     "output_type": "stream",
     "text": [
      "1\n"
     ]
    }
   ],
   "source": [
    "\n",
    "// Defines a custom type. We cannot use a primitive type in this example because they all implement the `Copy` trait.\n",
    "struct Foo(i32);\n",
    "let x = Foo(1);\n",
    "// Move the value in `x` to `y`\n",
    "let y = x;\n",
    "// Error: x no longer has the value.\n",
    "println!(\"{}\", y.0);"
   ]
  },
  {
   "cell_type": "code",
   "execution_count": 6,
   "id": "69c094ed",
   "metadata": {},
   "outputs": [
    {
     "name": "stdout",
     "output_type": "stream",
     "text": [
      "Hello World!\n"
     ]
    }
   ],
   "source": [
    "let x=\"Hello World!\";\n",
    "println!(\"{}\", x);"
   ]
  },
  {
   "cell_type": "code",
   "execution_count": null,
   "id": "78fa1247",
   "metadata": {},
   "outputs": [],
   "source": []
  }
 ],
 "metadata": {
  "kernelspec": {
   "display_name": "Rust",
   "language": "rust",
   "name": "rust"
  },
  "language_info": {
   "codemirror_mode": "rust",
   "file_extension": ".rs",
   "mimetype": "text/rust",
   "name": "Rust",
   "pygment_lexer": "rust",
   "version": ""
  }
 },
 "nbformat": 4,
 "nbformat_minor": 5
}
